{
  "cells": [
    {
      "cell_type": "code",
      "execution_count": 3,
      "metadata": {
        "id": "VMefLVPAE0D5"
      },
      "outputs": [
        {
          "name": "stdout",
          "output_type": "stream",
          "text": [
            "4.11.0\n"
          ]
        }
      ],
      "source": [
        "import os\n",
        "import zipfile\n",
        "import cv2\n",
        "import io\n",
        "import base64\n",
        "from IPython.display import HTML"
      ]
    },
    {
      "cell_type": "markdown",
      "metadata": {
        "id": "2ZBndrZKE0D8"
      },
      "source": [
        "# Setup System"
      ]
    },
    {
      "cell_type": "code",
      "execution_count": 59,
      "metadata": {
        "colab": {
          "base_uri": "https://localhost:8080/"
        },
        "id": "IjBAQW1fE0D-",
        "outputId": "0a2ce392-67c7-40cb-e71b-fc8dc1da0c08"
      },
      "outputs": [],
      "source": [
        "if os.path.exists(\"/content/python_object_tracking_opencv\"):\n",
        "    !rm -rf python_object_tracking_opencv\n",
        "\n",
        "if os.getcwd() == \"/content\":\n",
        "    !git clone https://github.com/KauaHenSilva/python_object_tracking_opencv\n",
        "    %cd python_object_tracking_opencv"
      ]
    },
    {
      "cell_type": "code",
      "execution_count": 60,
      "metadata": {
        "colab": {
          "base_uri": "https://localhost:8080/"
        },
        "id": "G-JnfJQhE0D_",
        "outputId": "ac8c0bee-ef3f-4e72-ae09-5531a0287b13"
      },
      "outputs": [
        {
          "name": "stdout",
          "output_type": "stream",
          "text": [
            "Requirement already satisfied: gdown==5.2.0 in ./.venv/lib/python3.12/site-packages (from -r utils/requirements.txt (line 1)) (5.2.0)\n",
            "Requirement already satisfied: beautifulsoup4 in ./.venv/lib/python3.12/site-packages (from gdown==5.2.0->-r utils/requirements.txt (line 1)) (4.12.3)\n",
            "Requirement already satisfied: filelock in ./.venv/lib/python3.12/site-packages (from gdown==5.2.0->-r utils/requirements.txt (line 1)) (3.17.0)\n",
            "Requirement already satisfied: requests[socks] in ./.venv/lib/python3.12/site-packages (from gdown==5.2.0->-r utils/requirements.txt (line 1)) (2.32.3)\n",
            "Requirement already satisfied: tqdm in ./.venv/lib/python3.12/site-packages (from gdown==5.2.0->-r utils/requirements.txt (line 1)) (4.67.1)\n",
            "Requirement already satisfied: soupsieve>1.2 in ./.venv/lib/python3.12/site-packages (from beautifulsoup4->gdown==5.2.0->-r utils/requirements.txt (line 1)) (2.6)\n",
            "Requirement already satisfied: charset-normalizer<4,>=2 in ./.venv/lib/python3.12/site-packages (from requests[socks]->gdown==5.2.0->-r utils/requirements.txt (line 1)) (3.4.1)\n",
            "Requirement already satisfied: idna<4,>=2.5 in ./.venv/lib/python3.12/site-packages (from requests[socks]->gdown==5.2.0->-r utils/requirements.txt (line 1)) (3.10)\n",
            "Requirement already satisfied: urllib3<3,>=1.21.1 in ./.venv/lib/python3.12/site-packages (from requests[socks]->gdown==5.2.0->-r utils/requirements.txt (line 1)) (1.26.20)\n",
            "Requirement already satisfied: certifi>=2017.4.17 in ./.venv/lib/python3.12/site-packages (from requests[socks]->gdown==5.2.0->-r utils/requirements.txt (line 1)) (2024.12.14)\n",
            "Requirement already satisfied: PySocks!=1.5.7,>=1.5.6 in ./.venv/lib/python3.12/site-packages (from requests[socks]->gdown==5.2.0->-r utils/requirements.txt (line 1)) (1.7.1)\n",
            "Note: you may need to restart the kernel to use updated packages.\n",
            "Requirement already satisfied: opencv-python in ./.venv/lib/python3.12/site-packages (from -r traker_types/requirements.txt (line 1)) (4.11.0.86)\n",
            "Requirement already satisfied: opencv-contrib-python-headless in ./.venv/lib/python3.12/site-packages (from -r traker_types/requirements.txt (line 2)) (4.11.0.86)\n",
            "Requirement already satisfied: numpy>=1.21.2 in ./.venv/lib/python3.12/site-packages (from opencv-python->-r traker_types/requirements.txt (line 1)) (1.26.4)\n",
            "Note: you may need to restart the kernel to use updated packages.\n"
          ]
        }
      ],
      "source": [
        "%pip install -r utils/requirements.txt\n",
        "%pip install -r traker_types/requirements.txt"
      ]
    },
    {
      "cell_type": "code",
      "execution_count": 61,
      "metadata": {
        "colab": {
          "base_uri": "https://localhost:8080/"
        },
        "id": "EPsvPDheE0D_",
        "outputId": "173b2913-a4ab-414e-bcc5-48c666f01443"
      },
      "outputs": [
        {
          "name": "stdout",
          "output_type": "stream",
          "text": [
            "Downloading...\n",
            "From (original): https://drive.google.com/uc?id=1xQtcYzenMZg7OWd90aBTKf_wBZf5E6Xr\n",
            "From (redirected): https://drive.google.com/uc?id=1xQtcYzenMZg7OWd90aBTKf_wBZf5E6Xr&confirm=t&uuid=ce39557a-560a-466e-89b5-1e6c977e9360\n",
            "To: /home/user/workspace/kaua/trackin/arq.zip\n",
            "100%|████████████████████████████████████████| 394M/394M [02:53<00:00, 2.28MB/s]\n"
          ]
        }
      ],
      "source": [
        "!python \"utils/drive.py\" \"https://drive.google.com/file/d/1xQtcYzenMZg7OWd90aBTKf_wBZf5E6Xr/view?usp=drive_link\" arq.zip --fuzzy\n",
        "if not os.path.exists('arq') and os.path.exists('arq.zip'):\n",
        "    with zipfile.ZipFile('arq.zip', 'r') as zip_ref:\n",
        "        zip_ref.extractall('arq')"
      ]
    },
    {
      "cell_type": "code",
      "execution_count": 76,
      "metadata": {
        "id": "F-bxdopSE0EB"
      },
      "outputs": [],
      "source": [
        "def show_video(name_file):\n",
        "\n",
        "\n",
        "    cap = cv2.VideoCapture(name_file)\n",
        "    if not cap.isOpened():\n",
        "        raise ValueError(\"Erro ao abrir o vídeo. Verifique o caminho ou formato do arquivo.\")\n",
        "\n",
        "    width = int(cap.get(cv2.CAP_PROP_FRAME_WIDTH))\n",
        "    height = int(cap.get(cv2.CAP_PROP_FRAME_HEIGHT))\n",
        "    cap.release()\n",
        "\n",
        "    video_encoded = base64.b64encode(io.open(name_file, 'rb').read())\n",
        "\n",
        "    return HTML(data=f'''\n",
        "        <video width=\"{width}\" height=\"{height}\" controls>\n",
        "            <source src=\"data:video/mp4;base64,{video_encoded.decode('ascii')}\" type=\"video/mp4\">\n",
        "        </video>\n",
        "    ''')\n"
      ]
    }
  ],
  "metadata": {
    "colab": {
      "include_colab_link": true,
      "provenance": []
    },
    "kernelspec": {
      "display_name": ".venv",
      "language": "python",
      "name": "python3"
    },
    "language_info": {
      "codemirror_mode": {
        "name": "ipython",
        "version": 3
      },
      "file_extension": ".py",
      "mimetype": "text/x-python",
      "name": "python",
      "nbconvert_exporter": "python",
      "pygments_lexer": "ipython3",
      "version": "3.12.3"
    }
  },
  "nbformat": 4,
  "nbformat_minor": 0
}
