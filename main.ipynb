{
 "cells": [
  {
   "cell_type": "markdown",
   "metadata": {},
   "source": [
    "# Setup System"
   ]
  },
  {
   "cell_type": "code",
   "execution_count": 24,
   "metadata": {},
   "outputs": [
    {
     "name": "stdout",
     "output_type": "stream",
     "text": [
      "Requirement already satisfied: gdown==5.2.0 in ./.venv/lib/python3.12/site-packages (from -r utils/requirements.txt (line 1)) (5.2.0)\n",
      "Requirement already satisfied: beautifulsoup4 in ./.venv/lib/python3.12/site-packages (from gdown==5.2.0->-r utils/requirements.txt (line 1)) (4.12.3)\n",
      "Requirement already satisfied: filelock in ./.venv/lib/python3.12/site-packages (from gdown==5.2.0->-r utils/requirements.txt (line 1)) (3.17.0)\n",
      "Requirement already satisfied: requests[socks] in ./.venv/lib/python3.12/site-packages (from gdown==5.2.0->-r utils/requirements.txt (line 1)) (2.32.3)\n",
      "Requirement already satisfied: tqdm in ./.venv/lib/python3.12/site-packages (from gdown==5.2.0->-r utils/requirements.txt (line 1)) (4.67.1)\n",
      "Requirement already satisfied: soupsieve>1.2 in ./.venv/lib/python3.12/site-packages (from beautifulsoup4->gdown==5.2.0->-r utils/requirements.txt (line 1)) (2.6)\n",
      "Requirement already satisfied: charset-normalizer<4,>=2 in ./.venv/lib/python3.12/site-packages (from requests[socks]->gdown==5.2.0->-r utils/requirements.txt (line 1)) (3.4.1)\n",
      "Requirement already satisfied: idna<4,>=2.5 in ./.venv/lib/python3.12/site-packages (from requests[socks]->gdown==5.2.0->-r utils/requirements.txt (line 1)) (3.10)\n",
      "Requirement already satisfied: urllib3<3,>=1.21.1 in ./.venv/lib/python3.12/site-packages (from requests[socks]->gdown==5.2.0->-r utils/requirements.txt (line 1)) (2.3.0)\n",
      "Requirement already satisfied: certifi>=2017.4.17 in ./.venv/lib/python3.12/site-packages (from requests[socks]->gdown==5.2.0->-r utils/requirements.txt (line 1)) (2024.12.14)\n",
      "Requirement already satisfied: PySocks!=1.5.7,>=1.5.6 in ./.venv/lib/python3.12/site-packages (from requests[socks]->gdown==5.2.0->-r utils/requirements.txt (line 1)) (1.7.1)\n",
      "Note: you may need to restart the kernel to use updated packages.\n",
      "Requirement already satisfied: opencv-python in ./.venv/lib/python3.12/site-packages (from -r traker_types/requirements.txt (line 1)) (4.11.0.86)\n",
      "Requirement already satisfied: opencv-contrib-python-headless in ./.venv/lib/python3.12/site-packages (from -r traker_types/requirements.txt (line 2)) (4.11.0.86)\n",
      "Requirement already satisfied: numpy>=1.21.2 in ./.venv/lib/python3.12/site-packages (from opencv-python->-r traker_types/requirements.txt (line 1)) (2.2.2)\n",
      "Note: you may need to restart the kernel to use updated packages.\n"
     ]
    }
   ],
   "source": [
    "%pip install -r utils/requirements.txt\n",
    "%pip install -r traker_types/requirements.txt"
   ]
  },
  {
   "cell_type": "code",
   "execution_count": 7,
   "metadata": {},
   "outputs": [],
   "source": [
    "import os\n",
    "import zipfile"
   ]
  },
  {
   "cell_type": "code",
   "execution_count": 13,
   "metadata": {},
   "outputs": [
    {
     "name": "stdout",
     "output_type": "stream",
     "text": [
      "O arquivo arq.zip já existe\n"
     ]
    }
   ],
   "source": [
    "!python \"utils/drive.py\" \"https://drive.google.com/file/d/1xQtcYzenMZg7OWd90aBTKf_wBZf5E6Xr/view?usp=drive_link\" arq.zip --fuzzy"
   ]
  },
  {
   "cell_type": "code",
   "execution_count": 12,
   "metadata": {},
   "outputs": [],
   "source": [
    "if not os.path.exists('arq') and os.path.exists('arq.zip'):\n",
    "    with zipfile.ZipFile('arq.zip', 'r') as zip_ref:\n",
    "        zip_ref.extractall('arq')\n",
    "    os.remove('arq.zip')"
   ]
  },
  {
   "cell_type": "markdown",
   "metadata": {},
   "source": [
    "# Traker Types"
   ]
  },
  {
   "cell_type": "code",
   "execution_count": 25,
   "metadata": {},
   "outputs": [
    {
     "name": "stdout",
     "output_type": "stream",
     "text": [
      "Traker: < cv2.legacy.TrackerBoosting 0x71d88731be90>\n"
     ]
    }
   ],
   "source": [
    "!python \"traker_types/traker.py\" --video \"arq/vid.mp4\" --traker_type \"BOOSTING\""
   ]
  },
  {
   "cell_type": "code",
   "execution_count": null,
   "metadata": {},
   "outputs": [],
   "source": []
  }
 ],
 "metadata": {
  "kernelspec": {
   "display_name": ".venv",
   "language": "python",
   "name": "python3"
  },
  "language_info": {
   "codemirror_mode": {
    "name": "ipython",
    "version": 3
   },
   "file_extension": ".py",
   "mimetype": "text/x-python",
   "name": "python",
   "nbconvert_exporter": "python",
   "pygments_lexer": "ipython3",
   "version": "3.12.3"
  }
 },
 "nbformat": 4,
 "nbformat_minor": 2
}
