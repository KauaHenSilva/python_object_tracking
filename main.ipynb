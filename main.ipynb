{
 "cells": [
  {
   "cell_type": "code",
   "execution_count": 45,
   "metadata": {},
   "outputs": [],
   "source": [
    "import os\n",
    "import zipfile"
   ]
  },
  {
   "cell_type": "markdown",
   "metadata": {},
   "source": [
    "# Setup System"
   ]
  },
  {
   "cell_type": "code",
   "execution_count": 46,
   "metadata": {},
   "outputs": [
    {
     "name": "stdout",
     "output_type": "stream",
     "text": [
      "Requirement already satisfied: gdown==5.2.0 in ./.venv/lib/python3.12/site-packages (from -r utils/requirements.txt (line 1)) (5.2.0)\n",
      "Requirement already satisfied: beautifulsoup4 in ./.venv/lib/python3.12/site-packages (from gdown==5.2.0->-r utils/requirements.txt (line 1)) (4.12.3)\n",
      "Requirement already satisfied: filelock in ./.venv/lib/python3.12/site-packages (from gdown==5.2.0->-r utils/requirements.txt (line 1)) (3.17.0)\n",
      "Requirement already satisfied: requests[socks] in ./.venv/lib/python3.12/site-packages (from gdown==5.2.0->-r utils/requirements.txt (line 1)) (2.32.3)\n",
      "Requirement already satisfied: tqdm in ./.venv/lib/python3.12/site-packages (from gdown==5.2.0->-r utils/requirements.txt (line 1)) (4.67.1)\n",
      "Requirement already satisfied: soupsieve>1.2 in ./.venv/lib/python3.12/site-packages (from beautifulsoup4->gdown==5.2.0->-r utils/requirements.txt (line 1)) (2.6)\n",
      "Requirement already satisfied: charset-normalizer<4,>=2 in ./.venv/lib/python3.12/site-packages (from requests[socks]->gdown==5.2.0->-r utils/requirements.txt (line 1)) (3.4.1)\n",
      "Requirement already satisfied: idna<4,>=2.5 in ./.venv/lib/python3.12/site-packages (from requests[socks]->gdown==5.2.0->-r utils/requirements.txt (line 1)) (3.10)\n",
      "Requirement already satisfied: urllib3<3,>=1.21.1 in ./.venv/lib/python3.12/site-packages (from requests[socks]->gdown==5.2.0->-r utils/requirements.txt (line 1)) (2.3.0)\n",
      "Requirement already satisfied: certifi>=2017.4.17 in ./.venv/lib/python3.12/site-packages (from requests[socks]->gdown==5.2.0->-r utils/requirements.txt (line 1)) (2024.12.14)\n",
      "Requirement already satisfied: PySocks!=1.5.7,>=1.5.6 in ./.venv/lib/python3.12/site-packages (from requests[socks]->gdown==5.2.0->-r utils/requirements.txt (line 1)) (1.7.1)\n",
      "Note: you may need to restart the kernel to use updated packages.\n",
      "Requirement already satisfied: opencv-python in ./.venv/lib/python3.12/site-packages (from -r traker_types/requirements.txt (line 1)) (4.11.0.86)\n",
      "Requirement already satisfied: opencv-contrib-python-headless in ./.venv/lib/python3.12/site-packages (from -r traker_types/requirements.txt (line 2)) (4.11.0.86)\n",
      "Requirement already satisfied: numpy>=1.21.2 in ./.venv/lib/python3.12/site-packages (from opencv-python->-r traker_types/requirements.txt (line 1)) (2.2.2)\n",
      "Note: you may need to restart the kernel to use updated packages.\n"
     ]
    }
   ],
   "source": [
    "%pip install -r utils/requirements.txt\n",
    "%pip install -r traker_types/requirements.txt"
   ]
  },
  {
   "cell_type": "code",
   "execution_count": 47,
   "metadata": {},
   "outputs": [
    {
     "name": "stdout",
     "output_type": "stream",
     "text": [
      "O arquivo arq.zip já existe\n"
     ]
    }
   ],
   "source": [
    "!python \"utils/drive.py\" \"https://drive.google.com/file/d/1xQtcYzenMZg7OWd90aBTKf_wBZf5E6Xr/view?usp=drive_link\" arq.zip --fuzzy\n",
    "if not os.path.exists('arq') and os.path.exists('arq.zip'):\n",
    "    with zipfile.ZipFile('arq.zip', 'r') as zip_ref:\n",
    "        zip_ref.extractall('arq')\n",
    "    os.remove('arq.zip')"
   ]
  },
  {
   "cell_type": "markdown",
   "metadata": {},
   "source": [
    "# Traker Types"
   ]
  },
  {
   "cell_type": "code",
   "execution_count": 48,
   "metadata": {},
   "outputs": [],
   "source": [
    "def show_video(name_file, width=700, height=480):\n",
    "  import io\n",
    "  import base64\n",
    "  from IPython.display import HTML\n",
    "  video_encoded = base64.b64encode(io.open(name_file, 'rb').read())\n",
    "  return HTML(data=''''''.format(width, height, video_encoded.decode('ascii')))"
   ]
  },
  {
   "cell_type": "code",
   "execution_count": 78,
   "metadata": {},
   "outputs": [
    {
     "name": "stdout",
     "output_type": "stream",
     "text": [
      "[INFO] Rastreador BOOSTING selecionado\n",
      "[INFO] Processando vídeo...\n",
      "Traceback (most recent call last):\n",
      "  File \"/home/user/workspace/kaua/trackin/traker_types/traker.py\", line 83, in <module>\n",
      "    traker.process_video(args.only_frame, args.start_roi, args.output,)\n",
      "  File \"/home/user/workspace/kaua/trackin/traker_types/traker.py\", line 70, in process_video\n",
      "    cv2.destroyAllWindows()\n",
      "cv2.error: OpenCV(4.11.0) /io/opencv/modules/highgui/src/window.cpp:1295: error: (-2:Unspecified error) The function is not implemented. Rebuild the library with Windows, GTK+ 2.x or Cocoa support. If you are on Ubuntu or Debian, install libgtk2.0-dev and pkg-config, then re-run cmake or configure script in function 'cvDestroyAllWindows'\n",
      "\n"
     ]
    }
   ],
   "source": [
    "!python \"traker_types/traker.py\" --traker_type \"BOOSTING\" --video \"arq/Rastreamento_OpenCV/videos/race.mp4\" --start_roi 650 260 100 193\n",
    "!ffmpeg -y -loglevel panic -i output.avi output.mp4\n",
    "!rm output.avi"
   ]
  },
  {
   "cell_type": "code",
   "execution_count": 20,
   "metadata": {},
   "outputs": [
    {
     "data": {
      "text/html": [],
      "text/plain": [
       "<IPython.core.display.HTML object>"
      ]
     },
     "execution_count": 20,
     "metadata": {},
     "output_type": "execute_result"
    }
   ],
   "source": [
    "# Somente no Colab\n",
    "show_video('output.mp4')"
   ]
  }
 ],
 "metadata": {
  "kernelspec": {
   "display_name": ".venv",
   "language": "python",
   "name": "python3"
  },
  "language_info": {
   "codemirror_mode": {
    "name": "ipython",
    "version": 3
   },
   "file_extension": ".py",
   "mimetype": "text/x-python",
   "name": "python",
   "nbconvert_exporter": "python",
   "pygments_lexer": "ipython3",
   "version": "3.12.3"
  }
 },
 "nbformat": 4,
 "nbformat_minor": 2
}
